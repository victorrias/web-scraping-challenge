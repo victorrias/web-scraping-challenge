{
 "cells": [
  {
   "cell_type": "code",
   "execution_count": 39,
   "metadata": {},
   "outputs": [],
   "source": [
    "from splinter import Browser\n",
    "from bs4 import BeautifulSoup as bs\n",
    "from webdriver_manager.chrome import ChromeDriverManager\n",
    "import pandas as pd"
   ]
  },
  {
   "cell_type": "code",
   "execution_count": 40,
   "metadata": {},
   "outputs": [
    {
     "name": "stdout",
     "output_type": "stream",
     "text": [
      "\n"
     ]
    },
    {
     "name": "stderr",
     "output_type": "stream",
     "text": [
      "[WDM] - ====== WebDriver manager ======\n",
      "INFO:WDM:====== WebDriver manager ======\n",
      "[WDM] - Current google-chrome version is 104.0.5112\n",
      "INFO:WDM:Current google-chrome version is 104.0.5112\n",
      "[WDM] - Get LATEST chromedriver version for 104.0.5112 google-chrome\n",
      "INFO:WDM:Get LATEST chromedriver version for 104.0.5112 google-chrome\n",
      "[WDM] - Driver [/Users/victoriasandoval/.wdm/drivers/chromedriver/mac64/104.0.5112.79/chromedriver] found in cache\n",
      "INFO:WDM:Driver [/Users/victoriasandoval/.wdm/drivers/chromedriver/mac64/104.0.5112.79/chromedriver] found in cache\n"
     ]
    },
    {
     "name": "stdout",
     "output_type": "stream",
     "text": [
      "<html><head>\n",
      "<meta charset=\"utf-8\"/>\n",
      "<meta content=\"width=device-width, initial-scale=1\" name=\"viewport\"/>\n",
      "<link crossorigin=\"anonymous\" href=\"https://cdn.jsdelivr.net/npm/bootstrap@5.0.0-beta1/dist/css/bootstrap.min.css\" integrity=\"sha384-giJF6kkoqNQ00vy+HMDP7azOuL0xtbfIcaT9wjKHr8RbDVddVHyTfAAsrekwKmP1\" rel=\"stylesheet\"/>\n",
      "<link href=\"css/font.css\" rel=\"stylesheet\" type=\"text/css\"/>\n",
      "<link href=\"css/app.css\" rel=\"stylesheet\" type=\"text/css\"/>\n",
      "<link crossorigin=\"anonymous\" href=\"https://pro.fontawesome.com/releases/v5.10.0/css/all.css\" integrity=\"sha384-AYmEC3Yw5cVb3ZcuHtOA93w35dYTsvhLPVnYs9eStHfGJvOvKxVfELGroGkvsg+p\" rel=\"stylesheet\"/>\n",
      "<title>News - Mars Exploration Program</title>\n",
      "</head>\n",
      "<body>\n",
      "<div class=\"col-md-12\">\n",
      "<div class=\"row\">\n",
      "<nav class=\"navbar navbar-expand-lg navbar-light fixed-top\">\n",
      "<div class=\"container-fluid\">\n",
      "<a class=\"navbar-brand\" href=\"#\">\n",
      "<img src=\"image/nasa.png\" width=\"80\"/><span class=\"logo\">MARS Planet Science</span>\n",
      "<span class=\"logo1\">Exploration Program</span>\n",
      "</a>\n",
      "<button aria-controls=\"navbarNav\" aria-expanded=\"false\" aria-label=\"Toggle navigation\" class=\"navbar-toggler\" data-bs-target=\"#navbarNav\" data-bs-toggle=\"collapse\" type=\"button\">\n",
      "<span class=\"navbar-toggler-icon\"></span>\n",
      "</button>\n",
      "<div class=\"collapse navbar-collapse justify-content-end\" id=\"navbarNav\">\n",
      "<ul class=\"navbar-nav\">\n",
      "<li class=\"nav-item\">\n",
      "<a aria-current=\"page\" class=\"nav-link active\" href=\"#\">The Red Planet</a>\n",
      "</li>\n",
      "<li class=\"nav-item\">\n",
      "<a class=\"nav-link\" href=\"#\">The Program</a>\n",
      "</li>\n",
      "<li class=\"nav-item\">\n",
      "<a class=\"nav-link\" href=\"#\">News &amp; Events</a>\n",
      "</li>\n",
      "<li class=\"nav-item\">\n",
      "<a class=\"nav-link\" href=\"#\">Multimedia</a>\n",
      "</li>\n",
      "<li class=\"nav-item\">\n",
      "<a class=\"nav-link\" href=\"#\">Missions</a>\n",
      "</li>\n",
      "<li class=\"nav-item\">\n",
      "<a class=\"nav-link\" href=\"#\">More</a>\n",
      "</li>\n",
      "<li class=\"nav-item nav_search\">\n",
      "<a class=\"nav-link\" href=\"#\"></a>\n",
      "</li>\n",
      "</ul>\n",
      "</div>\n",
      "</div>\n",
      "</nav>\n",
      "<section class=\"search\">\n",
      "<div class=\"container\">\n",
      "<h1>News</h1>\n",
      "<div class=\"col-md-12 filter\">\n",
      "<div class=\"row\">\n",
      "<div class=\"col-md-3 search_binder\">\n",
      "<input class=\"search_field\" name=\"search\" type=\"text\"/>\n",
      "<input class=\"search_submit\" name=\"search\" type=\"text\"/>\n",
      "</div>\n",
      "<div class=\"col-md-3\">\n",
      "<select aria-label=\"Default select example\" class=\"form-select\" id=\"year\">\n",
      "<option selected=\"\">Latest</option>\n",
      "<option>2020</option><option>2019</option></select>\n",
      "</div>\n",
      "<div class=\"col-md-3\">\n",
      "<select aria-label=\"Default select example\" class=\"form-select\" id=\"cat\">\n",
      "<option selected=\"\">All Categories</option>\n",
      "<option>Feature Stories</option><option>Status Reports</option><option>Press Releases</option></select>\n",
      "</div>\n",
      "<div class=\"col-md-3\">\n",
      "</div>\n",
      "</div>\n",
      "</div>\n",
      "</div>\n",
      "</section>\n",
      "<section class=\"image_and_description_container\">\n",
      "<div class=\"container\" id=\"news\">\n",
      "<div class=\"col-md-12\">\n",
      "<hr/>\n",
      "<div class=\"row\">\n",
      "<div class=\"col-md-4\">\n",
      "<div class=\"list_image\">\n",
      "<img src=\"https://mars.nasa.gov/system/news_items/list_view_images/8712_PIA23720-320x240.jpg\"/>\n",
      "</div>\n",
      "</div>\n",
      "<div class=\"col-md-8\">\n",
      "<div class=\"list_text\">\n",
      "<div class=\"list_date\">August 31, 2022</div>\n",
      "<div class=\"content_title\">6 Things to Know About NASA's Ingenuity Mars Helicopter</div>\n",
      "<div class=\"article_teaser_body\">The first helicopter attempting to fly on another planet is a marvel of engineering. Get up to speed with these key facts about its plans.</div>\n",
      "</div>\n",
      "</div>\n",
      "</div>\n",
      "</div>\n",
      "<div class=\"col-md-12\">\n",
      "<hr/>\n",
      "<div class=\"row\">\n",
      "<div class=\"col-md-4\">\n",
      "<div class=\"list_image\">\n",
      "<img src=\"https://mars.nasa.gov/system/news_items/list_view_images/8545_24679_PIA23470-1041_320x240px.jpg\"/>\n",
      "</div>\n",
      "</div>\n",
      "<div class=\"col-md-8\">\n",
      "<div class=\"list_text\">\n",
      "<div class=\"list_date\">August 30, 2022</div>\n",
      "<div class=\"content_title\">NASA's Mars 2020 Heads Into the Test Chamber</div>\n",
      "<div class=\"article_teaser_body\">In this time-lapse video taken at JPL, engineers move the Mars 2020 rover into a large vacuum chamber for testing in Mars-like environmental conditions.</div>\n",
      "</div>\n",
      "</div>\n",
      "</div>\n",
      "</div>\n",
      "<div class=\"col-md-12\">\n",
      "<hr/>\n",
      "<div class=\"row\">\n",
      "<div class=\"col-md-4\">\n",
      "<div class=\"list_image\">\n",
      "<img src=\"https://mars.nasa.gov/system/news_items/list_view_images/8801_20201118_mars2020-320x240.jpg\"/>\n",
      "</div>\n",
      "</div>\n",
      "<div class=\"col-md-8\">\n",
      "<div class=\"list_text\">\n",
      "<div class=\"list_date\">August 26, 2022</div>\n",
      "<div class=\"content_title\">Hear Audio From NASA's Perseverance As It Travels Through Deep Space</div>\n",
      "<div class=\"article_teaser_body\">The first to be rigged with microphones, the agency's latest Mars rover picked up the subtle sounds of its own inner workings during interplanetary flight.</div>\n",
      "</div>\n",
      "</div>\n",
      "</div>\n",
      "</div>\n",
      "<div class=\"col-md-12\">\n",
      "<hr/>\n",
      "<div class=\"row\">\n",
      "<div class=\"col-md-4\">\n",
      "<div class=\"list_image\">\n",
      "<img src=\"https://mars.nasa.gov/system/news_items/list_view_images/8704_PIA23973-320x240.jpg\"/>\n",
      "</div>\n",
      "</div>\n",
      "<div class=\"col-md-8\">\n",
      "<div class=\"list_text\">\n",
      "<div class=\"list_date\">August 25, 2022</div>\n",
      "<div class=\"content_title\">Curiosity Mars Rover's Summer Road Trip Has Begun</div>\n",
      "<div class=\"article_teaser_body\">After more than a year in the \"clay-bearing unit,\" Curiosity is making a mile-long journey around some deep sand so that it can explore higher up Mount Sharp.</div>\n",
      "</div>\n",
      "</div>\n",
      "</div>\n",
      "</div>\n",
      "<div class=\"col-md-12\">\n",
      "<hr/>\n",
      "<div class=\"row\">\n",
      "<div class=\"col-md-4\">\n",
      "<div class=\"list_image\">\n",
      "<img src=\"https://mars.nasa.gov/system/news_items/list_view_images/8630_PIA23768-320x240.jpg\"/>\n",
      "</div>\n",
      "</div>\n",
      "<div class=\"col-md-8\">\n",
      "<div class=\"list_text\">\n",
      "<div class=\"list_date\">August 25, 2022</div>\n",
      "<div class=\"content_title\">NASA's Mars Perseverance Rover Gets Its Sample Handling System</div>\n",
      "<div class=\"article_teaser_body\">The system will be collecting and storing Martian rock and soil. Its installation marks another milestone in the march toward the July launch period.</div>\n",
      "</div>\n",
      "</div>\n",
      "</div>\n",
      "</div>\n",
      "<div class=\"col-md-12\">\n",
      "<hr/>\n",
      "<div class=\"row\">\n",
      "<div class=\"col-md-4\">\n",
      "<div class=\"list_image\">\n",
      "<img src=\"https://mars.nasa.gov/system/news_items/list_view_images/8792_parachute-320x240.jpg\"/>\n",
      "</div>\n",
      "</div>\n",
      "<div class=\"col-md-8\">\n",
      "<div class=\"list_text\">\n",
      "<div class=\"list_date\">August 24, 2022</div>\n",
      "<div class=\"content_title\">NASA's Perseverance Rover 100 Days Out</div>\n",
      "<div class=\"article_teaser_body\">Mark your calendars: The agency's latest rover has only about 8,640,000 seconds to go before it touches down on the Red Planet, becoming history's next Mars car.</div>\n",
      "</div>\n",
      "</div>\n",
      "</div>\n",
      "</div>\n",
      "<div class=\"col-md-12\">\n",
      "<hr/>\n",
      "<div class=\"row\">\n",
      "<div class=\"col-md-4\">\n",
      "<div class=\"list_image\">\n",
      "<img src=\"https://mars.nasa.gov/system/news_items/list_view_images/8575_PIA23519-SAF-unannot-320x240.jpg\"/>\n",
      "</div>\n",
      "</div>\n",
      "<div class=\"col-md-8\">\n",
      "<div class=\"list_text\">\n",
      "<div class=\"list_date\">August 24, 2022</div>\n",
      "<div class=\"content_title\">Space History Is Made in This NASA Robot Factory</div>\n",
      "<div class=\"article_teaser_body\">From rockets to rovers, JPL's Spacecraft Assembly Facility has been at the center of robotic spaceflight. Here's a closer look at what makes it so special.</div>\n",
      "</div>\n",
      "</div>\n",
      "</div>\n",
      "</div>\n",
      "<div class=\"col-md-12\">\n",
      "<hr/>\n",
      "<div class=\"row\">\n",
      "<div class=\"col-md-4\">\n",
      "<div class=\"list_image\">\n",
      "<img src=\"https://mars.nasa.gov/system/news_items/list_view_images/8573_PIA23499-226.jpg\"/>\n",
      "</div>\n",
      "</div>\n",
      "<div class=\"col-md-8\">\n",
      "<div class=\"list_text\">\n",
      "<div class=\"list_date\">August 17, 2022</div>\n",
      "<div class=\"content_title\">NASA's Mars 2020 Rover Completes Its First Drive</div>\n",
      "<div class=\"article_teaser_body\">In a 10-plus-hour marathon, the rover steered, turned and drove in 3-foot (1-meter) increments over small ramps.</div>\n",
      "</div>\n",
      "</div>\n",
      "</div>\n",
      "</div>\n",
      "<div class=\"col-md-12\">\n",
      "<hr/>\n",
      "<div class=\"row\">\n",
      "<div class=\"col-md-4\">\n",
      "<div class=\"list_image\">\n",
      "<img src=\"https://mars.nasa.gov/system/news_items/list_view_images/8529_PIA23512-226.gif\"/>\n",
      "</div>\n",
      "</div>\n",
      "<div class=\"col-md-8\">\n",
      "<div class=\"list_text\">\n",
      "<div class=\"list_date\">August 15, 2022</div>\n",
      "<div class=\"content_title\">InSight's 'Mole' Team Peers into the Pit</div>\n",
      "<div class=\"article_teaser_body\">Efforts to save the heat probe continue.</div>\n",
      "</div>\n",
      "</div>\n",
      "</div>\n",
      "</div>\n",
      "<div class=\"col-md-12\">\n",
      "<hr/>\n",
      "<div class=\"row\">\n",
      "<div class=\"col-md-4\">\n",
      "<div class=\"list_image\">\n",
      "<img src=\"https://mars.nasa.gov/system/news_items/list_view_images/8682_SCS-16-MAIN-320.jpg\"/>\n",
      "</div>\n",
      "</div>\n",
      "<div class=\"col-md-8\">\n",
      "<div class=\"list_text\">\n",
      "<div class=\"list_date\">August 10, 2022</div>\n",
      "<div class=\"content_title\">The Extraordinary Sample-Gathering System of NASA's Perseverance Mars Rover</div>\n",
      "<div class=\"article_teaser_body\">Two astronauts collected Moon rocks on Apollo 11. It will take three robotic systems working together to gather up the first Mars rock samples for return to Earth.</div>\n",
      "</div>\n",
      "</div>\n",
      "</div>\n",
      "</div>\n",
      "<div class=\"col-md-12\">\n",
      "<hr/>\n",
      "<div class=\"row\">\n",
      "<div class=\"col-md-4\">\n",
      "<div class=\"list_image\">\n",
      "<img src=\"https://mars.nasa.gov/system/news_items/list_view_images/8612_Sol427-437_backcap_push_positioning-320x240.gif\"/>\n",
      "</div>\n",
      "</div>\n",
      "<div class=\"col-md-8\">\n",
      "<div class=\"list_text\">\n",
      "<div class=\"list_date\">August 10, 2022</div>\n",
      "<div class=\"content_title\">Mars InSight Lander to Push on Top of the 'Mole'</div>\n",
      "<div class=\"article_teaser_body\">Engineers have a plan for pushing down on the heat probe, which has been stuck at the Martian surface for a year.</div>\n",
      "</div>\n",
      "</div>\n",
      "</div>\n",
      "</div>\n",
      "<div class=\"col-md-12\">\n",
      "<hr/>\n",
      "<div class=\"row\">\n",
      "<div class=\"col-md-4\">\n",
      "<div class=\"list_image\">\n",
      "<img src=\"https://mars.nasa.gov/system/news_items/list_view_images/8621_sol2597_2600_mosaic-320x240.jpg\"/>\n",
      "</div>\n",
      "</div>\n",
      "<div class=\"col-md-8\">\n",
      "<div class=\"list_text\">\n",
      "<div class=\"list_date\">August 9, 2022</div>\n",
      "<div class=\"content_title\">NASA's Curiosity Mars Rover Snaps Its Highest-Resolution Panorama Yet</div>\n",
      "<div class=\"article_teaser_body\">To go along with the stunning 1.8-billion-pixel image, a new video offers a sweeping view of the Red Planet.</div>\n",
      "</div>\n",
      "</div>\n",
      "</div>\n",
      "</div>\n",
      "<div class=\"col-md-12\">\n",
      "<hr/>\n",
      "<div class=\"row\">\n",
      "<div class=\"col-md-4\">\n",
      "<div class=\"list_image\">\n",
      "<img src=\"https://mars.nasa.gov/system/news_items/list_view_images/8506_mars-solar-conjunction-th.jpg\"/>\n",
      "</div>\n",
      "</div>\n",
      "<div class=\"col-md-8\">\n",
      "<div class=\"list_text\">\n",
      "<div class=\"list_date\">August 8, 2022</div>\n",
      "<div class=\"content_title\">What's Mars Solar Conjunction, and Why Does It Matter?</div>\n",
      "<div class=\"article_teaser_body\">NASA spacecraft at Mars are going to be on their own for a few weeks when the Sun comes between Mars and Earth, interrupting communications.</div>\n",
      "</div>\n",
      "</div>\n",
      "</div>\n",
      "</div>\n",
      "<div class=\"col-md-12\">\n",
      "<hr/>\n",
      "<div class=\"row\">\n",
      "<div class=\"col-md-4\">\n",
      "<div class=\"list_image\">\n",
      "<img src=\"https://mars.nasa.gov/system/news_items/list_view_images/8718_25106_PIA23986-320.jpg\"/>\n",
      "</div>\n",
      "</div>\n",
      "<div class=\"col-md-8\">\n",
      "<div class=\"list_text\">\n",
      "<div class=\"list_date\">August 6, 2022</div>\n",
      "<div class=\"content_title\">NASA's Mars Perseverance Rover Passes Flight Readiness Review</div>\n",
      "<div class=\"article_teaser_body\">​The agency's Mars 2020 mission has one more big prelaunch review – the Launch Readiness Review, on July 27.</div>\n",
      "</div>\n",
      "</div>\n",
      "</div>\n",
      "</div>\n",
      "<div class=\"col-md-12\">\n",
      "<hr/>\n",
      "<div class=\"row\">\n",
      "<div class=\"col-md-4\">\n",
      "<div class=\"list_image\">\n",
      "<img src=\"https://mars.nasa.gov/system/news_items/list_view_images/8639_bob-heli-226.jpg\"/>\n",
      "</div>\n",
      "</div>\n",
      "<div class=\"col-md-8\">\n",
      "<div class=\"list_text\">\n",
      "<div class=\"list_date\">August 2, 2022</div>\n",
      "<div class=\"content_title\">The Man Who Wanted to Fly on Mars</div>\n",
      "<div class=\"article_teaser_body\">The Mars Helicopter is riding to the Red Planet this summer with NASA's Perseverance rover. The helicopter's chief engineer, Bob Balaram, shares the saga of how it came into being.</div>\n",
      "</div>\n",
      "</div>\n",
      "</div>\n",
      "</div>\n",
      "</div>\n",
      "<hr class=\"container\" style=\"margin: 25px auto;width: 83%;\"/>\n",
      "<button class=\"btn disable\" id=\"more\" onclick=\"populateContent()\">More</button>\n",
      "</section>\n",
      "<section class=\"last_news\">\n",
      "<div class=\"container\">\n",
      "<div class=\"row\">\n",
      "<div class=\"col-12\">\n",
      "<h2>You Might Also Like</h2>\n",
      "</div>\n",
      "<!--  <a class=\" prev\" href=\"#carouselExampleIndicators2\" role=\"button\" data-slide=\"prev\">\n",
      "                  <i class=\"fas fa-angle-left\"></i>\n",
      "                  </a>\n",
      "                  <a class=\" next\" href=\"#carouselExampleIndicators2\" role=\"button\" data-slide=\"next\">\n",
      "                  <i class=\"fas fa-angle-right\"></i>\n",
      "                  </a> -->\n",
      "<div class=\"col-12\">\n",
      "<div class=\"carousel slide\" data-ride=\"carousel\" id=\"carouselExampleIndicators2\">\n",
      "<div class=\"carousel-inner\">\n",
      "<div class=\"carousel-item active\">\n",
      "<div class=\"row\">\n",
      "<div class=\"col-md-4 mb-3\">\n",
      "<div class=\"card\">\n",
      "<img alt=\"100%x280\" class=\"img-fluid\" src=\"https://mars.nasa.gov/system/news_items/main_images/8716_PIA23499-16.jpg\"/>\n",
      "<div class=\"card-body\">\n",
      "<p class=\"card-text\">NASA to Broadcast Mars 2020 Perseverance Launch, Prelaunch Activities</p>\n",
      "</div>\n",
      "</div>\n",
      "</div>\n",
      "<div class=\"col-md-4 mb-3\">\n",
      "<div class=\"card\">\n",
      "<img alt=\"100%x280\" class=\"img-fluid\" src=\"https://mars.nasa.gov/system/news_items/main_images/8716_PIA23499-16.jpg\"/>\n",
      "<div class=\"card-body\">\n",
      "<p class=\"card-text\">The Launch Is Approaching for NASA's Next Mars Rover, Perseverance</p>\n",
      "</div>\n",
      "</div>\n",
      "</div>\n",
      "<div class=\"col-md-4 mb-3\">\n",
      "<div class=\"card\">\n",
      "<img alt=\"100%x280\" class=\"img-fluid\" src=\"https://mars.nasa.gov/system/news_items/main_images/8692_PIA23920-web.jpg\"/>\n",
      "<div class=\"card-body\">\n",
      "<p class=\"card-text\">NASA to Hold Mars 2020 Perseverance Rover Launch Briefing</p>\n",
      "</div>\n",
      "</div>\n",
      "</div>\n",
      "</div>\n",
      "</div>\n",
      "<div class=\"carousel-item\">\n",
      "<div class=\"row\">\n",
      "<div class=\"col-md-4 mb-3\">\n",
      "<div class=\"card\">\n",
      "<img alt=\"100%x280\" class=\"img-fluid\" src=\"https://images.unsplash.com/photo-1532771098148-525cefe10c23?ixlib=rb-0.3.5&amp;q=80&amp;fm=jpg&amp;crop=entropy&amp;cs=tinysrgb&amp;w=1080&amp;fit=max&amp;ixid=eyJhcHBfaWQiOjMyMDc0fQ&amp;s=3f317c1f7a16116dec454fbc267dd8e4\"/>\n",
      "<div class=\"card-body\">\n",
      "<p class=\"card-text\">With supporting text below as a natural lead-in to additional content.</p>\n",
      "</div>\n",
      "</div>\n",
      "</div>\n",
      "<div class=\"col-md-4 mb-3\">\n",
      "<div class=\"card\">\n",
      "<img alt=\"100%x280\" class=\"img-fluid\" src=\"https://images.unsplash.com/photo-1532715088550-62f09305f765?ixlib=rb-0.3.5&amp;q=80&amp;fm=jpg&amp;crop=entropy&amp;cs=tinysrgb&amp;w=1080&amp;fit=max&amp;ixid=eyJhcHBfaWQiOjMyMDc0fQ&amp;s=ebadb044b374504ef8e81bdec4d0e840\"/>\n",
      "<div class=\"card-body\">\n",
      "<p class=\"card-text\">With supporting text below as a natural lead-in to additional content.</p>\n",
      "</div>\n",
      "</div>\n",
      "</div>\n",
      "<div class=\"col-md-4 mb-3\">\n",
      "<div class=\"card\">\n",
      "<img alt=\"100%x280\" class=\"img-fluid\" src=\"https://images.unsplash.com/photo-1506197603052-3cc9c3a201bd?ixlib=rb-0.3.5&amp;q=80&amp;fm=jpg&amp;crop=entropy&amp;cs=tinysrgb&amp;w=1080&amp;fit=max&amp;ixid=eyJhcHBfaWQiOjMyMDc0fQ&amp;s=0754ab085804ae8a3b562548e6b4aa2e\"/>\n",
      "<div class=\"card-body\">\n",
      "<p class=\"card-text\">With supporting text below as a natural lead-in to additional content.</p>\n",
      "</div>\n",
      "</div>\n",
      "</div>\n",
      "</div>\n",
      "</div>\n",
      "<div class=\"carousel-item\">\n",
      "<div class=\"row\">\n",
      "<div class=\"col-md-4 mb-3\">\n",
      "<div class=\"card\">\n",
      "<img alt=\"100%x280\" class=\"img-fluid\" src=\"https://images.unsplash.com/photo-1507525428034-b723cf961d3e?ixlib=rb-0.3.5&amp;q=80&amp;fm=jpg&amp;crop=entropy&amp;cs=tinysrgb&amp;w=1080&amp;fit=max&amp;ixid=eyJhcHBfaWQiOjMyMDc0fQ&amp;s=ee8417f0ea2a50d53a12665820b54e23\"/>\n",
      "<div class=\"card-body\">\n",
      "<p class=\"card-text\">With supporting text below as a natural lead-in to additional content.</p>\n",
      "</div>\n",
      "</div>\n",
      "</div>\n",
      "<div class=\"col-md-4 mb-3\">\n",
      "<div class=\"card\">\n",
      "<img alt=\"100%x280\" class=\"img-fluid\" src=\"https://images.unsplash.com/photo-1532777946373-b6783242f211?ixlib=rb-0.3.5&amp;q=80&amp;fm=jpg&amp;crop=entropy&amp;cs=tinysrgb&amp;w=1080&amp;fit=max&amp;ixid=eyJhcHBfaWQiOjMyMDc0fQ&amp;s=8ac55cf3a68785643998730839663129\"/>\n",
      "<div class=\"card-body\">\n",
      "<p class=\"card-text\">With supporting text below as a natural lead-in to additional content.</p>\n",
      "</div>\n",
      "</div>\n",
      "</div>\n",
      "<div class=\"col-md-4 mb-3\">\n",
      "<div class=\"card\">\n",
      "<img alt=\"100%x280\" class=\"img-fluid\" src=\"https://images.unsplash.com/photo-1532763303805-529d595877c5?ixlib=rb-0.3.5&amp;q=80&amp;fm=jpg&amp;crop=entropy&amp;cs=tinysrgb&amp;w=1080&amp;fit=max&amp;ixid=eyJhcHBfaWQiOjMyMDc0fQ&amp;s=5ee4fd5d19b40f93eadb21871757eda6\"/>\n",
      "<div class=\"card-body\">\n",
      "<p class=\"card-text\">With supporting text below as a natural lead-in to additional content.</p>\n",
      "</div>\n",
      "</div>\n",
      "</div>\n",
      "</div>\n",
      "</div>\n",
      "</div>\n",
      "</div>\n",
      "</div>\n",
      "</div>\n",
      "</div>\n",
      "</section>\n",
      "<section class=\"footer\">\n",
      "<div class=\"container\">\n",
      "<div class=\"col-md-12\">\n",
      "<div class=\"row\">\n",
      "<div class=\"col-md-3\">\n",
      "<h5>The Red Planet</h5>\n",
      "<ul>\n",
      "<li>Dashboard</li>\n",
      "<li>Science Goals</li>\n",
      "<li>The Planet</li>\n",
      "</ul>\n",
      "</div>\n",
      "<div class=\"col-md-3\">\n",
      "<h5>The Program</h5>\n",
      "<ul>\n",
      "<li>Mission Statement</li>\n",
      "<li>About the Program</li>\n",
      "<li>Organization Why Mars?</li>\n",
      "</ul>\n",
      "</div>\n",
      "<div class=\"col-md-3\">\n",
      "<h5>Multimedia</h5>\n",
      "<ul>\n",
      "<li>Images</li>\n",
      "<li>Videos</li>\n",
      "<li>More Resources</li>\n",
      "</ul>\n",
      "</div>\n",
      "<div class=\"col-md-3\">\n",
      "<h5>Missions</h5>\n",
      "<ul>\n",
      "<li>Past</li>\n",
      "<li>Present</li>\n",
      "<li>Future</li>\n",
      "</ul>\n",
      "</div>\n",
      "</div>\n",
      "</div>\n",
      "</div>\n",
      "</section>\n",
      "<script src=\"https://code.jquery.com/jquery-1.12.4.min.js\" type=\"text/javascript\"></script>\n",
      "<script src=\"https://cdn.jsdelivr.net/npm/@popperjs/core@2.5.4/dist/umd/popper.min.js\"></script>\n",
      "<script src=\"https://cdn.jsdelivr.net/npm/bootstrap@5.0.0-beta1/dist/js/bootstrap.min.js\"></script>\n",
      "<script src=\"js/app.js\"></script>\n",
      "</div></div></body></html>\n"
     ]
    }
   ],
   "source": [
    "# browser = init_browser()\n",
    "executable_path = {'executable_path': ChromeDriverManager().install()}\n",
    "browser = Browser('chrome', **executable_path, headless=False)\n",
    "\n",
    "mars_news = {}\n",
    "\n",
    "url = \"https://redplanetscience.com/\"\n",
    "browser.visit(url)\n",
    "\n",
    "html = browser.html\n",
    "soup = bs(html, \"html.parser\")\n",
    "\n",
    "print(soup)"
   ]
  },
  {
   "cell_type": "code",
   "execution_count": 41,
   "metadata": {
    "scrolled": true
   },
   "outputs": [
    {
     "data": {
      "text/plain": [
       "[<div class=\"content_title\">6 Things to Know About NASA's Ingenuity Mars Helicopter</div>,\n",
       " <div class=\"content_title\">NASA's Mars 2020 Heads Into the Test Chamber</div>,\n",
       " <div class=\"content_title\">Hear Audio From NASA's Perseverance As It Travels Through Deep Space</div>,\n",
       " <div class=\"content_title\">Curiosity Mars Rover's Summer Road Trip Has Begun</div>,\n",
       " <div class=\"content_title\">NASA's Mars Perseverance Rover Gets Its Sample Handling System</div>,\n",
       " <div class=\"content_title\">NASA's Perseverance Rover 100 Days Out</div>,\n",
       " <div class=\"content_title\">Space History Is Made in This NASA Robot Factory</div>,\n",
       " <div class=\"content_title\">NASA's Mars 2020 Rover Completes Its First Drive</div>,\n",
       " <div class=\"content_title\">InSight's 'Mole' Team Peers into the Pit</div>,\n",
       " <div class=\"content_title\">The Extraordinary Sample-Gathering System of NASA's Perseverance Mars Rover</div>,\n",
       " <div class=\"content_title\">Mars InSight Lander to Push on Top of the 'Mole'</div>,\n",
       " <div class=\"content_title\">NASA's Curiosity Mars Rover Snaps Its Highest-Resolution Panorama Yet</div>,\n",
       " <div class=\"content_title\">What's Mars Solar Conjunction, and Why Does It Matter?</div>,\n",
       " <div class=\"content_title\">NASA's Mars Perseverance Rover Passes Flight Readiness Review</div>,\n",
       " <div class=\"content_title\">The Man Who Wanted to Fly on Mars</div>]"
      ]
     },
     "execution_count": 41,
     "metadata": {},
     "output_type": "execute_result"
    }
   ],
   "source": [
    "soup.find_all(\"div\", class_=\"content_title\")"
   ]
  },
  {
   "cell_type": "code",
   "execution_count": 42,
   "metadata": {},
   "outputs": [],
   "source": [
    "mars_news[\"news_title\"] = soup.find(\"div\", class_=\"content_title\").get_text()\n",
    "mars_news[\"news_p\"] = soup.find(\"div\", class_=\"article_teaser_body\").get_text()"
   ]
  },
  {
   "cell_type": "code",
   "execution_count": 43,
   "metadata": {},
   "outputs": [],
   "source": [
    "# Quit the browser\n",
    "browser.quit()"
   ]
  },
  {
   "cell_type": "code",
   "execution_count": 44,
   "metadata": {},
   "outputs": [
    {
     "data": {
      "text/plain": [
       "\"6 Things to Know About NASA's Ingenuity Mars Helicopter\""
      ]
     },
     "execution_count": 44,
     "metadata": {},
     "output_type": "execute_result"
    }
   ],
   "source": [
    "mars_news[\"news_title\"]"
   ]
  },
  {
   "cell_type": "code",
   "execution_count": 45,
   "metadata": {},
   "outputs": [
    {
     "data": {
      "text/plain": [
       "'The first helicopter attempting to fly on another planet is a marvel of engineering. Get up to speed with these key facts about its plans.'"
      ]
     },
     "execution_count": 45,
     "metadata": {},
     "output_type": "execute_result"
    }
   ],
   "source": [
    "mars_news[\"news_p\"]"
   ]
  },
  {
   "cell_type": "code",
   "execution_count": 46,
   "metadata": {},
   "outputs": [
    {
     "data": {
      "text/html": [
       "<div>\n",
       "<style scoped>\n",
       "    .dataframe tbody tr th:only-of-type {\n",
       "        vertical-align: middle;\n",
       "    }\n",
       "\n",
       "    .dataframe tbody tr th {\n",
       "        vertical-align: top;\n",
       "    }\n",
       "\n",
       "    .dataframe thead th {\n",
       "        text-align: right;\n",
       "    }\n",
       "</style>\n",
       "<table border=\"1\" class=\"dataframe\">\n",
       "  <thead>\n",
       "    <tr style=\"text-align: right;\">\n",
       "      <th></th>\n",
       "      <th>Mars - Earth Comparison</th>\n",
       "      <th>Mars</th>\n",
       "      <th>Earth</th>\n",
       "    </tr>\n",
       "  </thead>\n",
       "  <tbody>\n",
       "    <tr>\n",
       "      <th>0</th>\n",
       "      <td>Diameter:</td>\n",
       "      <td>6,779 km</td>\n",
       "      <td>12,742 km</td>\n",
       "    </tr>\n",
       "    <tr>\n",
       "      <th>1</th>\n",
       "      <td>Mass:</td>\n",
       "      <td>6.39 × 10^23 kg</td>\n",
       "      <td>5.97 × 10^24 kg</td>\n",
       "    </tr>\n",
       "    <tr>\n",
       "      <th>2</th>\n",
       "      <td>Moons:</td>\n",
       "      <td>2</td>\n",
       "      <td>1</td>\n",
       "    </tr>\n",
       "    <tr>\n",
       "      <th>3</th>\n",
       "      <td>Distance from Sun:</td>\n",
       "      <td>227,943,824 km</td>\n",
       "      <td>149,598,262 km</td>\n",
       "    </tr>\n",
       "    <tr>\n",
       "      <th>4</th>\n",
       "      <td>Length of Year:</td>\n",
       "      <td>687 Earth days</td>\n",
       "      <td>365.24 days</td>\n",
       "    </tr>\n",
       "    <tr>\n",
       "      <th>5</th>\n",
       "      <td>Temperature:</td>\n",
       "      <td>-87 to -5 °C</td>\n",
       "      <td>-88 to 58°C</td>\n",
       "    </tr>\n",
       "  </tbody>\n",
       "</table>\n",
       "</div>"
      ],
      "text/plain": [
       "  Mars - Earth Comparison             Mars            Earth\n",
       "0               Diameter:         6,779 km        12,742 km\n",
       "1                   Mass:  6.39 × 10^23 kg  5.97 × 10^24 kg\n",
       "2                  Moons:                2                1\n",
       "3      Distance from Sun:   227,943,824 km   149,598,262 km\n",
       "4         Length of Year:   687 Earth days      365.24 days\n",
       "5            Temperature:     -87 to -5 °C      -88 to 58°C"
      ]
     },
     "execution_count": 46,
     "metadata": {},
     "output_type": "execute_result"
    }
   ],
   "source": [
    "mars_facts_url = \"https://space-facts.com/mars/\"\n",
    "mars_table = pd.read_html(mars_facts_url)[1]\n",
    "mars_table"
   ]
  },
  {
   "cell_type": "code",
   "execution_count": 47,
   "metadata": {},
   "outputs": [
    {
     "data": {
      "text/plain": [
       "'<table border=\"1\" class=\"dataframe\">\\n  <thead>\\n    <tr style=\"text-align: right;\">\\n      <th></th>\\n      <th>Mars - Earth Comparison</th>\\n      <th>Mars</th>\\n      <th>Earth</th>\\n    </tr>\\n  </thead>\\n  <tbody>\\n    <tr>\\n      <th>0</th>\\n      <td>Diameter:</td>\\n      <td>6,779 km</td>\\n      <td>12,742 km</td>\\n    </tr>\\n    <tr>\\n      <th>1</th>\\n      <td>Mass:</td>\\n      <td>6.39 × 10^23 kg</td>\\n      <td>5.97 × 10^24 kg</td>\\n    </tr>\\n    <tr>\\n      <th>2</th>\\n      <td>Moons:</td>\\n      <td>2</td>\\n      <td>1</td>\\n    </tr>\\n    <tr>\\n      <th>3</th>\\n      <td>Distance from Sun:</td>\\n      <td>227,943,824 km</td>\\n      <td>149,598,262 km</td>\\n    </tr>\\n    <tr>\\n      <th>4</th>\\n      <td>Length of Year:</td>\\n      <td>687 Earth days</td>\\n      <td>365.24 days</td>\\n    </tr>\\n    <tr>\\n      <th>5</th>\\n      <td>Temperature:</td>\\n      <td>-87 to -5 °C</td>\\n      <td>-88 to 58°C</td>\\n    </tr>\\n  </tbody>\\n</table>'"
      ]
     },
     "execution_count": 47,
     "metadata": {},
     "output_type": "execute_result"
    }
   ],
   "source": [
    "#mars_table.columns = [\"Mars-Earth Comparison\", \"Mars\", \"Earth\"]\n",
    "mars_table = mars_table.to_html()\n",
    "mars_table"
   ]
  },
  {
   "cell_type": "code",
   "execution_count": null,
   "metadata": {},
   "outputs": [],
   "source": []
  },
  {
   "cell_type": "code",
   "execution_count": 48,
   "metadata": {
    "scrolled": false
   },
   "outputs": [
    {
     "name": "stdout",
     "output_type": "stream",
     "text": [
      "\n"
     ]
    },
    {
     "name": "stderr",
     "output_type": "stream",
     "text": [
      "[WDM] - ====== WebDriver manager ======\n",
      "INFO:WDM:====== WebDriver manager ======\n",
      "[WDM] - Current google-chrome version is 104.0.5112\n",
      "INFO:WDM:Current google-chrome version is 104.0.5112\n",
      "[WDM] - Get LATEST chromedriver version for 104.0.5112 google-chrome\n",
      "INFO:WDM:Get LATEST chromedriver version for 104.0.5112 google-chrome\n",
      "[WDM] - Driver [/Users/victoriasandoval/.wdm/drivers/chromedriver/mac64/104.0.5112.79/chromedriver] found in cache\n",
      "INFO:WDM:Driver [/Users/victoriasandoval/.wdm/drivers/chromedriver/mac64/104.0.5112.79/chromedriver] found in cache\n"
     ]
    }
   ],
   "source": [
    "#browser = init_browser()\n",
    "executable_path = {'executable_path': ChromeDriverManager().install()}\n",
    "browser = Browser('chrome', **executable_path, headless=False)\n",
    "\n",
    "url = \"https://spaceimages-mars.com/\"\n",
    "browser.visit(url)\n",
    "\n",
    "html = browser.html\n",
    "soup = bs(html, \"html.parser\")\n",
    "\n",
    "#print(soup)"
   ]
  },
  {
   "cell_type": "code",
   "execution_count": 49,
   "metadata": {},
   "outputs": [],
   "source": [
    "featured_image = soup.find(class_='headerimage fade-in')\n",
    "featured_image_url = featured_image.find_all('img')"
   ]
  },
  {
   "cell_type": "code",
   "execution_count": 50,
   "metadata": {},
   "outputs": [],
   "source": [
    "all_images = soup.find_all(\"img\", class_=\"headerimage fade-in\")\n",
    "for img in all_images: \n",
    "    src = img[\"src\"]"
   ]
  },
  {
   "cell_type": "code",
   "execution_count": 51,
   "metadata": {},
   "outputs": [
    {
     "name": "stdout",
     "output_type": "stream",
     "text": [
      "https://spaceimages-mars.com/image/featured/mars1.jpg\n"
     ]
    }
   ],
   "source": [
    "featured_image_url = \"https://spaceimages-mars.com/\"+src\n",
    "print(featured_image_url)"
   ]
  },
  {
   "cell_type": "code",
   "execution_count": 52,
   "metadata": {},
   "outputs": [],
   "source": [
    "# Quit the browser\n",
    "browser.quit()"
   ]
  },
  {
   "cell_type": "code",
   "execution_count": 53,
   "metadata": {},
   "outputs": [],
   "source": [
    "#slide_elem = soup.select_one('div.list_text')\n",
    "#slide_elem.find('div', class_='content_title')\n",
    "#mars_table[\"table\"] = soup.find(\"table\", class_=\"table table-striped\").get_text()"
   ]
  },
  {
   "cell_type": "code",
   "execution_count": 54,
   "metadata": {},
   "outputs": [],
   "source": [
    "# #browser = init_browser()\n",
    "# executable_path = {'executable_path': ChromeDriverManager().install()}\n",
    "# browser = Browser('chrome', **executable_path, headless=False)\n",
    "\n",
    "# url = \"https://marshemispheres.com/\"\n",
    "# browser.visit(url)\n",
    "\n",
    "# html = browser.html\n",
    "# soup = bs(html, \"html.parser\")\n",
    "\n",
    "\n",
    "# hemisphere_image_urls = [\n",
    "#     {\"title\": \"Valles Marineris Hemisphere\", \"img_url\": \"https://marshemispheres.com/images/valles_marineris_enhanced-full.jpg\"},\n",
    "#     {\"title\": \"Cerberus Hemisphere\", \"img_url\": \"https://marshemispheres.com/images/full.jpg\"},\n",
    "#     {\"title\": \"Schiaparelli Hemisphere\", \"img_url\": \"https://marshemispheres.com/images/schiaparelli_enhanced-full.jpg\"},\n",
    "#     {\"title\": \"Syrtis Major Hemisphere\", \"img_url\": \"https://marshemispheres.com/images/syrtis_major_enhanced-full.jpg\"},\n",
    "# ]\n"
   ]
  },
  {
   "cell_type": "code",
   "execution_count": 55,
   "metadata": {},
   "outputs": [
    {
     "name": "stdout",
     "output_type": "stream",
     "text": [
      "\n"
     ]
    },
    {
     "name": "stderr",
     "output_type": "stream",
     "text": [
      "[WDM] - ====== WebDriver manager ======\n",
      "INFO:WDM:====== WebDriver manager ======\n",
      "[WDM] - Current google-chrome version is 104.0.5112\n",
      "INFO:WDM:Current google-chrome version is 104.0.5112\n",
      "[WDM] - Get LATEST chromedriver version for 104.0.5112 google-chrome\n",
      "INFO:WDM:Get LATEST chromedriver version for 104.0.5112 google-chrome\n",
      "[WDM] - Driver [/Users/victoriasandoval/.wdm/drivers/chromedriver/mac64/104.0.5112.79/chromedriver] found in cache\n",
      "INFO:WDM:Driver [/Users/victoriasandoval/.wdm/drivers/chromedriver/mac64/104.0.5112.79/chromedriver] found in cache\n"
     ]
    }
   ],
   "source": [
    "#browser = init_browser()\n",
    "executable_path = {'executable_path': ChromeDriverManager().install()}\n",
    "browser = Browser('chrome', **executable_path, headless=False)\n",
    "\n",
    "url_1 = \"https://marshemispheres.com/cerberus.html\"\n",
    "\n",
    "browser.visit(url_1)\n",
    "\n",
    "html = browser.html\n",
    "soup = bs(html, \"html.parser\")"
   ]
  },
  {
   "cell_type": "code",
   "execution_count": 56,
   "metadata": {},
   "outputs": [
    {
     "name": "stdout",
     "output_type": "stream",
     "text": [
      "images/f5e372a36edfa389625da6d0cc25d905_cerberus_enhanced.tif_full.jpg\n",
      "Cerberus Hemisphere Enhanced\n",
      "https://marshemispheres.com/images/f5e372a36edfa389625da6d0cc25d905_cerberus_enhanced.tif_full.jpg\n"
     ]
    }
   ],
   "source": [
    "img_url_1 = soup.find_all(\"img\", class_=\"wide-image\")\n",
    "for img in img_url_1: \n",
    "    src_1 = img[\"src\"]\n",
    "    print(src_1)\n",
    "    \n",
    "title_1 = soup.find(\"h2\", class_=\"title\").text\n",
    "print(title_1)    \n",
    "\n",
    "hemisphere_image_url_1= \"https://marshemispheres.com/\"+src_1\n",
    "print(hemisphere_image_url_1)"
   ]
  },
  {
   "cell_type": "code",
   "execution_count": 57,
   "metadata": {},
   "outputs": [],
   "source": [
    "# Quit the browser\n",
    "browser.quit()"
   ]
  },
  {
   "cell_type": "code",
   "execution_count": 58,
   "metadata": {},
   "outputs": [
    {
     "name": "stdout",
     "output_type": "stream",
     "text": [
      "\n"
     ]
    },
    {
     "name": "stderr",
     "output_type": "stream",
     "text": [
      "[WDM] - ====== WebDriver manager ======\n",
      "INFO:WDM:====== WebDriver manager ======\n",
      "[WDM] - Current google-chrome version is 104.0.5112\n",
      "INFO:WDM:Current google-chrome version is 104.0.5112\n",
      "[WDM] - Get LATEST chromedriver version for 104.0.5112 google-chrome\n",
      "INFO:WDM:Get LATEST chromedriver version for 104.0.5112 google-chrome\n",
      "[WDM] - Driver [/Users/victoriasandoval/.wdm/drivers/chromedriver/mac64/104.0.5112.79/chromedriver] found in cache\n",
      "INFO:WDM:Driver [/Users/victoriasandoval/.wdm/drivers/chromedriver/mac64/104.0.5112.79/chromedriver] found in cache\n"
     ]
    }
   ],
   "source": [
    "#browser = init_browser()\n",
    "executable_path = {'executable_path': ChromeDriverManager().install()}\n",
    "browser = Browser('chrome', **executable_path, headless=False)\n",
    "\n",
    "url_2 = \"https://marshemispheres.com/schiaparelli.html\"\n",
    "\n",
    "browser.visit(url_2)\n",
    "\n",
    "html = browser.html\n",
    "soup = bs(html, \"html.parser\")"
   ]
  },
  {
   "cell_type": "code",
   "execution_count": 59,
   "metadata": {},
   "outputs": [
    {
     "name": "stdout",
     "output_type": "stream",
     "text": [
      "images/3778f7b43bbbc89d6e3cfabb3613ba93_schiaparelli_enhanced.tif_full.jpg\n",
      "Schiaparelli Hemisphere Enhanced\n",
      "https://marshemispheres.com/images/3778f7b43bbbc89d6e3cfabb3613ba93_schiaparelli_enhanced.tif_full.jpg\n"
     ]
    }
   ],
   "source": [
    "img_url_2 = soup.find_all(\"img\", class_=\"wide-image\")\n",
    "for img in img_url_2: \n",
    "    src_2 = img[\"src\"]\n",
    "    print(src_2)\n",
    "    \n",
    "title_2 = soup.find(\"h2\", class_=\"title\").text\n",
    "print(title_2)    \n",
    "\n",
    "hemisphere_image_url_2= \"https://marshemispheres.com/\"+src_2\n",
    "print(hemisphere_image_url_2)"
   ]
  },
  {
   "cell_type": "code",
   "execution_count": 60,
   "metadata": {},
   "outputs": [],
   "source": [
    "# Quit the browser\n",
    "browser.quit()"
   ]
  },
  {
   "cell_type": "code",
   "execution_count": 61,
   "metadata": {},
   "outputs": [
    {
     "name": "stdout",
     "output_type": "stream",
     "text": [
      "\n"
     ]
    },
    {
     "name": "stderr",
     "output_type": "stream",
     "text": [
      "[WDM] - ====== WebDriver manager ======\n",
      "INFO:WDM:====== WebDriver manager ======\n",
      "[WDM] - Current google-chrome version is 104.0.5112\n",
      "INFO:WDM:Current google-chrome version is 104.0.5112\n",
      "[WDM] - Get LATEST chromedriver version for 104.0.5112 google-chrome\n",
      "INFO:WDM:Get LATEST chromedriver version for 104.0.5112 google-chrome\n",
      "[WDM] - Driver [/Users/victoriasandoval/.wdm/drivers/chromedriver/mac64/104.0.5112.79/chromedriver] found in cache\n",
      "INFO:WDM:Driver [/Users/victoriasandoval/.wdm/drivers/chromedriver/mac64/104.0.5112.79/chromedriver] found in cache\n"
     ]
    }
   ],
   "source": [
    "#browser = init_browser()\n",
    "executable_path = {'executable_path': ChromeDriverManager().install()}\n",
    "browser = Browser('chrome', **executable_path, headless=False)\n",
    "\n",
    "url_3 = \"https://marshemispheres.com/syrtis.html\"\n",
    "\n",
    "browser.visit(url_3)\n",
    "\n",
    "html = browser.html\n",
    "soup = bs(html, \"html.parser\")"
   ]
  },
  {
   "cell_type": "code",
   "execution_count": 62,
   "metadata": {},
   "outputs": [
    {
     "name": "stdout",
     "output_type": "stream",
     "text": [
      "images/555e6403a6ddd7ba16ddb0e471cadcf7_syrtis_major_enhanced.tif_full.jpg\n",
      "Syrtis Major Hemisphere Enhanced\n",
      "https://marshemispheres.com/images/555e6403a6ddd7ba16ddb0e471cadcf7_syrtis_major_enhanced.tif_full.jpg\n"
     ]
    }
   ],
   "source": [
    "img_url_3 = soup.find_all(\"img\", class_=\"wide-image\")\n",
    "for img in img_url_3: \n",
    "    src_3 = img[\"src\"]\n",
    "    print(src_3)\n",
    "    \n",
    "title_3 = soup.find(\"h2\", class_=\"title\").text\n",
    "print(title_3)    \n",
    "\n",
    "hemisphere_image_url_3= \"https://marshemispheres.com/\"+src_3\n",
    "print(hemisphere_image_url_3)"
   ]
  },
  {
   "cell_type": "code",
   "execution_count": 63,
   "metadata": {},
   "outputs": [],
   "source": [
    "# Quit the browser\n",
    "browser.quit()"
   ]
  },
  {
   "cell_type": "code",
   "execution_count": 64,
   "metadata": {},
   "outputs": [
    {
     "name": "stdout",
     "output_type": "stream",
     "text": [
      "\n"
     ]
    },
    {
     "name": "stderr",
     "output_type": "stream",
     "text": [
      "[WDM] - ====== WebDriver manager ======\n",
      "INFO:WDM:====== WebDriver manager ======\n",
      "[WDM] - Current google-chrome version is 104.0.5112\n",
      "INFO:WDM:Current google-chrome version is 104.0.5112\n",
      "[WDM] - Get LATEST chromedriver version for 104.0.5112 google-chrome\n",
      "INFO:WDM:Get LATEST chromedriver version for 104.0.5112 google-chrome\n",
      "[WDM] - Driver [/Users/victoriasandoval/.wdm/drivers/chromedriver/mac64/104.0.5112.79/chromedriver] found in cache\n",
      "INFO:WDM:Driver [/Users/victoriasandoval/.wdm/drivers/chromedriver/mac64/104.0.5112.79/chromedriver] found in cache\n"
     ]
    }
   ],
   "source": [
    "#browser = init_browser()\n",
    "executable_path = {'executable_path': ChromeDriverManager().install()}\n",
    "browser = Browser('chrome', **executable_path, headless=False)\n",
    "\n",
    "url_4 = \"https://marshemispheres.com/valles.html\"\n",
    "\n",
    "browser.visit(url_4)\n",
    "\n",
    "html = browser.html\n",
    "soup = bs(html, \"html.parser\")"
   ]
  },
  {
   "cell_type": "code",
   "execution_count": 65,
   "metadata": {},
   "outputs": [
    {
     "name": "stdout",
     "output_type": "stream",
     "text": [
      "images/b3c7c6c9138f57b4756be9b9c43e3a48_valles_marineris_enhanced.tif_full.jpg\n",
      "Valles Marineris Hemisphere Enhanced\n",
      "https://marshemispheres.com/images/b3c7c6c9138f57b4756be9b9c43e3a48_valles_marineris_enhanced.tif_full.jpg\n"
     ]
    }
   ],
   "source": [
    "img_url_4 = soup.find_all(\"img\", class_=\"wide-image\")\n",
    "for img in img_url_4: \n",
    "    src_4 = img[\"src\"]\n",
    "    print(src_4)\n",
    "    \n",
    "title_4 = soup.find(\"h2\", class_=\"title\").text\n",
    "print(title_4)    \n",
    "\n",
    "hemisphere_image_url_4= \"https://marshemispheres.com/\"+src_4\n",
    "print(hemisphere_image_url_4)"
   ]
  },
  {
   "cell_type": "code",
   "execution_count": 66,
   "metadata": {},
   "outputs": [],
   "source": [
    "# Quit the browser\n",
    "browser.quit()"
   ]
  },
  {
   "cell_type": "code",
   "execution_count": 67,
   "metadata": {},
   "outputs": [
    {
     "data": {
      "text/plain": [
       "[{'title': 'Cerberus Hemisphere Enhanced',\n",
       "  'image url': [<img class=\"wide-image\" src=\"images/f5e372a36edfa389625da6d0cc25d905_cerberus_enhanced.tif_full.jpg\"/>]},\n",
       " {'title': 'Schiaparelli Hemisphere Enhanced',\n",
       "  'image url': [<img class=\"wide-image\" src=\"images/3778f7b43bbbc89d6e3cfabb3613ba93_schiaparelli_enhanced.tif_full.jpg\"/>]},\n",
       " {'title': 'Syrtis Major Hemisphere Enhanced',\n",
       "  'image url': [<img class=\"wide-image\" src=\"images/555e6403a6ddd7ba16ddb0e471cadcf7_syrtis_major_enhanced.tif_full.jpg\"/>]},\n",
       " {'title': 'Valles Marineris Hemisphere Enhanced',\n",
       "  'image url': [<img class=\"wide-image\" src=\"images/b3c7c6c9138f57b4756be9b9c43e3a48_valles_marineris_enhanced.tif_full.jpg\"/>]}]"
      ]
     },
     "execution_count": 67,
     "metadata": {},
     "output_type": "execute_result"
    }
   ],
   "source": [
    "hemisphere_image_urls = []\n",
    "\n",
    "dictionary_1 = {\"title\":title_1, \"image url\": img_url_1}\n",
    "dictionary_2 = {\"title\":title_2, \"image url\": img_url_2}\n",
    "dictionary_3 = {\"title\":title_3, \"image url\": img_url_3}\n",
    "dictionary_4 = {\"title\":title_4, \"image url\": img_url_4}\n",
    "\n",
    "hemisphere_image_urls.append(dictionary_1)\n",
    "hemisphere_image_urls.append(dictionary_2)\n",
    "hemisphere_image_urls.append(dictionary_3)\n",
    "hemisphere_image_urls.append(dictionary_4)\n",
    "\n",
    "hemisphere_image_urls"
   ]
  },
  {
   "cell_type": "code",
   "execution_count": 68,
   "metadata": {},
   "outputs": [],
   "source": [
    "# 1. Use browser to visit the URL \n",
    "\n",
    "\n",
    "\n",
    "# 2. Create a list to hold the images and titles.\n",
    "\n",
    "# 3. Write code to retrieve the image urls and titles for each hemisphere.\n",
    "# First, get a list of all of the hemispheres\n",
    "\n",
    "\n",
    "# Next, loop through those links, click the link, find the sample anchor, return the href\n",
    "\n",
    "    \n",
    "    # We have to find the elements on each loop to avoid a stale element exception\n",
    "   \n",
    "    \n",
    "    # Next, we find the Sample image anchor tag and extract the href\n",
    "    \n",
    "    # Get Hemisphere title\n",
    "    \n",
    "    \n",
    "    # Append hemisphere object to list\n",
    "    \n",
    "    \n",
    "    # Finally, we navigate backwards\n",
    "    \n",
    "# 4. Print the list that holds the dictionary of each image url and title."
   ]
  }
 ],
 "metadata": {
  "interpreter": {
   "hash": "aee8b7b246df8f9039afb4144a1f6fd8d2ca17a180786b69acc140d282b71a49"
  },
  "kernelspec": {
   "display_name": "Python 3 (ipykernel)",
   "language": "python",
   "name": "python3"
  },
  "language_info": {
   "codemirror_mode": {
    "name": "ipython",
    "version": 3
   },
   "file_extension": ".py",
   "mimetype": "text/x-python",
   "name": "python",
   "nbconvert_exporter": "python",
   "pygments_lexer": "ipython3",
   "version": "3.9.7"
  }
 },
 "nbformat": 4,
 "nbformat_minor": 2
}
